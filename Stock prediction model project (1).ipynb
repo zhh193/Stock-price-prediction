{
 "cells": [
  {
   "cell_type": "code",
   "execution_count": 5,
   "id": "80847014",
   "metadata": {},
   "outputs": [],
   "source": [
    "import yfinance as yf\n",
    "import pandas as pd\n",
    "import matplotlib.pyplot as plt\n",
    "import seaborn as sns\n",
    "import datetime as dt\n",
    "import pandas_datareader.data as web\n",
    "import numpy as np\n",
    "from pathlib import Path\n",
    "from sklearn.linear_model import LinearRegression\n",
    "from sklearn.model_selection import train_test_split\n",
    "from sklearn import metrics"
   ]
  },
  {
   "cell_type": "markdown",
   "id": "2cf8c947",
   "metadata": {},
   "source": [
    "## Importing CPI data\n",
    "\n",
    "* seasonally_adjusted"
   ]
  },
  {
   "cell_type": "code",
   "execution_count": 6,
   "id": "31645183",
   "metadata": {},
   "outputs": [
    {
     "data": {
      "text/html": [
       "<div>\n",
       "<style scoped>\n",
       "    .dataframe tbody tr th:only-of-type {\n",
       "        vertical-align: middle;\n",
       "    }\n",
       "\n",
       "    .dataframe tbody tr th {\n",
       "        vertical-align: top;\n",
       "    }\n",
       "\n",
       "    .dataframe thead th {\n",
       "        text-align: right;\n",
       "    }\n",
       "</style>\n",
       "<table border=\"1\" class=\"dataframe\">\n",
       "  <thead>\n",
       "    <tr style=\"text-align: right;\">\n",
       "      <th></th>\n",
       "      <th>FPCPITOTLZGUSA</th>\n",
       "    </tr>\n",
       "    <tr>\n",
       "      <th>DATE</th>\n",
       "      <th></th>\n",
       "    </tr>\n",
       "  </thead>\n",
       "  <tbody>\n",
       "    <tr>\n",
       "      <th>1960-01-01</th>\n",
       "      <td>1.457976</td>\n",
       "    </tr>\n",
       "    <tr>\n",
       "      <th>1961-01-01</th>\n",
       "      <td>1.070724</td>\n",
       "    </tr>\n",
       "    <tr>\n",
       "      <th>1962-01-01</th>\n",
       "      <td>1.198773</td>\n",
       "    </tr>\n",
       "    <tr>\n",
       "      <th>1963-01-01</th>\n",
       "      <td>1.239669</td>\n",
       "    </tr>\n",
       "    <tr>\n",
       "      <th>1964-01-01</th>\n",
       "      <td>1.278912</td>\n",
       "    </tr>\n",
       "    <tr>\n",
       "      <th>...</th>\n",
       "      <td>...</td>\n",
       "    </tr>\n",
       "    <tr>\n",
       "      <th>2017-01-01</th>\n",
       "      <td>2.130110</td>\n",
       "    </tr>\n",
       "    <tr>\n",
       "      <th>2018-01-01</th>\n",
       "      <td>2.442583</td>\n",
       "    </tr>\n",
       "    <tr>\n",
       "      <th>2019-01-01</th>\n",
       "      <td>1.812210</td>\n",
       "    </tr>\n",
       "    <tr>\n",
       "      <th>2020-01-01</th>\n",
       "      <td>1.233584</td>\n",
       "    </tr>\n",
       "    <tr>\n",
       "      <th>2021-01-01</th>\n",
       "      <td>4.697859</td>\n",
       "    </tr>\n",
       "  </tbody>\n",
       "</table>\n",
       "<p>62 rows × 1 columns</p>\n",
       "</div>"
      ],
      "text/plain": [
       "            FPCPITOTLZGUSA\n",
       "DATE                      \n",
       "1960-01-01        1.457976\n",
       "1961-01-01        1.070724\n",
       "1962-01-01        1.198773\n",
       "1963-01-01        1.239669\n",
       "1964-01-01        1.278912\n",
       "...                    ...\n",
       "2017-01-01        2.130110\n",
       "2018-01-01        2.442583\n",
       "2019-01-01        1.812210\n",
       "2020-01-01        1.233584\n",
       "2021-01-01        4.697859\n",
       "\n",
       "[62 rows x 1 columns]"
      ]
     },
     "execution_count": 6,
     "metadata": {},
     "output_type": "execute_result"
    }
   ],
   "source": [
    "start = dt.datetime(1950, 1, 1)\n",
    "end = dt.datetime(2023, 1, 1)\n",
    "\n",
    "cpi_annual = web.DataReader('FPCPITOTLZGUSA', 'fred', start, end)\n",
    "from pathlib import Path  \n",
    "filepath = Path('folder/subfolder/out.csv')  \n",
    "filepath.parent.mkdir(parents=True, exist_ok=True)  \n",
    "cpi_annual.to_csv(filepath) \n",
    "cpi_annual = pd.read_csv(filepath, parse_dates=True)\n",
    "cpi_annual['DATE'] = pd.to_datetime(cpi_annual['DATE'])\n",
    "cpi_annual.set_index(\"DATE\", inplace=True)\n",
    "cpi_annual"
   ]
  },
  {
   "cell_type": "markdown",
   "id": "65eeba9d",
   "metadata": {},
   "source": [
    "## Preliminary Data Exploration\n",
    "* Looking at the shape of the data\n",
    "* Checking for NaN values or duplicated values"
   ]
  },
  {
   "cell_type": "code",
   "execution_count": 7,
   "id": "e9562bf5",
   "metadata": {
    "scrolled": false
   },
   "outputs": [
    {
     "name": "stdout",
     "output_type": "stream",
     "text": [
      "(62, 1)\n",
      "Are there any duplicated data? False\n",
      "Are there any NaN present? False\n"
     ]
    }
   ],
   "source": [
    "print(cpi_annual.shape)\n",
    "dup_cpi = cpi_annual.duplicated().values.any()\n",
    "NaN_cpi = cpi_annual.isna().values.any()\n",
    "print(f\"Are there any duplicated data? {dup_cpi}\")\n",
    "print(f\"Are there any NaN present? {NaN_cpi}\")"
   ]
  },
  {
   "cell_type": "markdown",
   "id": "82eadee1",
   "metadata": {},
   "source": [
    "## Importing SP500 data"
   ]
  },
  {
   "cell_type": "code",
   "execution_count": 59,
   "id": "1396fb43",
   "metadata": {},
   "outputs": [],
   "source": [
    "sp500 = yf.Ticker(\"^GSPC\").history(period=\"max\")"
   ]
  },
  {
   "cell_type": "markdown",
   "id": "82cd10c3",
   "metadata": {},
   "source": [
    "## Preliminary Data Exploration\n",
    "* Looking at the shape of the data\n",
    "* Checking for NaN values or duplicated values"
   ]
  },
  {
   "cell_type": "code",
   "execution_count": 60,
   "id": "34f4bdc4",
   "metadata": {
    "scrolled": false
   },
   "outputs": [
    {
     "name": "stdout",
     "output_type": "stream",
     "text": [
      "(23905, 7)\n",
      "Are there any duplicated data? True\n",
      "Are there any NaN present? False\n"
     ]
    }
   ],
   "source": [
    "print(sp500.shape)\n",
    "dup_sp500 = sp500.duplicated().values.any()\n",
    "NaN_sp500 = sp500.isna().values.any()\n",
    "print(f\"Are there any duplicated data? {dup_sp500}\")\n",
    "print(f\"Are there any NaN present? {NaN_sp500}\")"
   ]
  },
  {
   "cell_type": "markdown",
   "id": "899e5f46",
   "metadata": {},
   "source": [
    "## Removing duplicated data\n"
   ]
  },
  {
   "cell_type": "code",
   "execution_count": 61,
   "id": "1761e5a5",
   "metadata": {},
   "outputs": [],
   "source": [
    "sp500_clean = sp500.drop_duplicates()"
   ]
  },
  {
   "cell_type": "markdown",
   "id": "5ebe7968",
   "metadata": {},
   "source": [
    "## Creating annual return for SP500\n",
    "\n"
   ]
  },
  {
   "cell_type": "code",
   "execution_count": 62,
   "id": "3dd6708f",
   "metadata": {},
   "outputs": [],
   "source": [
    "annual_data_list = []\n",
    "year_list = sp500_clean.index.year.unique()\n",
    "\n",
    "for year in year_list:\n",
    "    last_day_data = sp500_clean[sp500_clean.index.year == year].tail(1)\n",
    "    annual_data_list.append(last_day_data)\n",
    "    \n",
    "sp500_annual = pd.concat(annual_data_list)\n",
    "sp500_annual_performance = sp500_annual[[\"Close\"]] / sp500_annual[[\"Close\"]].shift(1) * 100 - 100\n",
    "sp500_annual_performance.index = pd.to_datetime(sp500_annual_performance.index.strftime(\"%Y\"))\n"
   ]
  },
  {
   "cell_type": "code",
   "execution_count": 63,
   "id": "9a64e05e",
   "metadata": {},
   "outputs": [],
   "source": [
    "sp500_annual_performance = sp500_annual_performance.dropna()"
   ]
  },
  {
   "cell_type": "markdown",
   "id": "1f1ad63b",
   "metadata": {},
   "source": [
    "## Plotting CPI vs SP500 annual return\n",
    "\n",
    "* Look for trends across the years between CPI change and SP500 returns\n",
    "\n",
    "\n",
    "* From the graph, we can see that there were two times where SP500 returned more than 25% negative.\n",
    "\n",
    "\n",
    "* In 1973-1974, there were multiple things that affected USA economy such as, inflation as seen by the increase of CPI percentage from 3% to 12%, together with recession and the ongoing energy crisis that occured in that time period all led up to SP500 returns being negative for 1973-1974\n",
    "\n",
    "\n",
    "* In 2008 we can see a very large negative annual return for SP500, the CPI rose but not as much as during 1973-1974. The reason for the negative return was due to the financial crisis of 2008. \n",
    "\n",
    "\n",
    "* Data in 2008 would prove that even if CPI drops, stock prices might not go up.\n"
   ]
  },
  {
   "cell_type": "code",
   "execution_count": 64,
   "id": "83b322c3",
   "metadata": {
    "scrolled": true
   },
   "outputs": [
    {
     "data": {
      "image/png": "[encoded data removed]",
      "text/plain": [
       "<Figure size 1080x576 with 2 Axes>"
      ]
     },
     "metadata": {
      "needs_background": "light"
     },
     "output_type": "display_data"
    }
   ],
   "source": [
    "fig, ax1 = plt.subplots(figsize=(15, 8))\n",
    "ax2 = ax1.twinx()\n",
    "\n",
    "ax1.plot(cpi_annual, color=\"orange\", label=\"CPI Annual Change\")\n",
    "\n",
    "colors = np.where(sp500_annual_performance['Close'] < 0, 'red', 'green')\n",
    "\n",
    "ax2.bar(sp500_annual_performance.index, sp500_annual_performance[\"Close\"],\n",
    "        color=colors, alpha=0.5, width = 150, label=\"S&P500 annual return (Positive)\")\n",
    "\n",
    "ax1.axhline(2, color='gray', linestyle='--')\n",
    "\n",
    "plt.tick_params(labelsize=10) \n",
    "plt.title(\"CPI vs. S&P 500 Annual Returns\", fontsize=20)\n",
    "\n",
    "handler1, label1 = ax1.get_legend_handles_labels()\n",
    "handler2, label2 = ax2.get_legend_handles_labels()\n",
    "ax1.legend(handler1 + handler2, label1 + label2)\n",
    "\n",
    "ax1.set_xlabel(\"Date\")\n",
    "ax1.set_ylabel(\"CPI Annual Change(%)\")\n",
    "ax2.set_ylabel(\"S&P500 annual return(%)\")\n",
    "\n",
    "ax1.set_ylim([-20, 20])\n",
    "# earliest date - 200 days\n",
    "# latest daate + 600 days\n",
    "ax1.set_xlim([min(cpi_annual.index) - dt.timedelta(days=200),\n",
    "              max(cpi_annual.index) + dt.timedelta(days=200)])\n",
    "plt.show()"
   ]
  },
  {
   "cell_type": "markdown",
   "id": "84028aa7",
   "metadata": {},
   "source": [
    "## Interest rates vs SP500 monthly returns\n"
   ]
  },
  {
   "cell_type": "code",
   "execution_count": 65,
   "id": "6a1bb0ab",
   "metadata": {},
   "outputs": [
    {
     "data": {
      "text/html": [
       "<div>\n",
       "<style scoped>\n",
       "    .dataframe tbody tr th:only-of-type {\n",
       "        vertical-align: middle;\n",
       "    }\n",
       "\n",
       "    .dataframe tbody tr th {\n",
       "        vertical-align: top;\n",
       "    }\n",
       "\n",
       "    .dataframe thead th {\n",
       "        text-align: right;\n",
       "    }\n",
       "</style>\n",
       "<table border=\"1\" class=\"dataframe\">\n",
       "  <thead>\n",
       "    <tr style=\"text-align: right;\">\n",
       "      <th></th>\n",
       "      <th>T10Y2Y</th>\n",
       "    </tr>\n",
       "    <tr>\n",
       "      <th>DATE</th>\n",
       "      <th></th>\n",
       "    </tr>\n",
       "  </thead>\n",
       "  <tbody>\n",
       "    <tr>\n",
       "      <th>1977-01-01</th>\n",
       "      <td>0.968635</td>\n",
       "    </tr>\n",
       "    <tr>\n",
       "      <th>1978-01-01</th>\n",
       "      <td>0.075524</td>\n",
       "    </tr>\n",
       "    <tr>\n",
       "      <th>1979-01-01</th>\n",
       "      <td>-0.677137</td>\n",
       "    </tr>\n",
       "    <tr>\n",
       "      <th>1980-01-01</th>\n",
       "      <td>-0.298320</td>\n",
       "    </tr>\n",
       "    <tr>\n",
       "      <th>1981-01-01</th>\n",
       "      <td>-0.653133</td>\n",
       "    </tr>\n",
       "    <tr>\n",
       "      <th>1982-01-01</th>\n",
       "      <td>0.204578</td>\n",
       "    </tr>\n",
       "    <tr>\n",
       "      <th>1983-01-01</th>\n",
       "      <td>0.894160</td>\n",
       "    </tr>\n",
       "    <tr>\n",
       "      <th>1984-01-01</th>\n",
       "      <td>0.787831</td>\n",
       "    </tr>\n",
       "    <tr>\n",
       "      <th>1985-01-01</th>\n",
       "      <td>1.352097</td>\n",
       "    </tr>\n",
       "    <tr>\n",
       "      <th>1986-01-01</th>\n",
       "      <td>0.812360</td>\n",
       "    </tr>\n",
       "    <tr>\n",
       "      <th>1987-01-01</th>\n",
       "      <td>0.977040</td>\n",
       "    </tr>\n",
       "    <tr>\n",
       "      <th>1988-01-01</th>\n",
       "      <td>0.747600</td>\n",
       "    </tr>\n",
       "    <tr>\n",
       "      <th>1989-01-01</th>\n",
       "      <td>-0.078680</td>\n",
       "    </tr>\n",
       "    <tr>\n",
       "      <th>1990-01-01</th>\n",
       "      <td>0.390880</td>\n",
       "    </tr>\n",
       "    <tr>\n",
       "      <th>1991-01-01</th>\n",
       "      <td>1.374600</td>\n",
       "    </tr>\n",
       "    <tr>\n",
       "      <th>1992-01-01</th>\n",
       "      <td>2.238964</td>\n",
       "    </tr>\n",
       "    <tr>\n",
       "      <th>1993-01-01</th>\n",
       "      <td>1.820480</td>\n",
       "    </tr>\n",
       "    <tr>\n",
       "      <th>1994-01-01</th>\n",
       "      <td>1.142209</td>\n",
       "    </tr>\n",
       "    <tr>\n",
       "      <th>1995-01-01</th>\n",
       "      <td>0.422440</td>\n",
       "    </tr>\n",
       "    <tr>\n",
       "      <th>1996-01-01</th>\n",
       "      <td>0.598571</td>\n",
       "    </tr>\n",
       "    <tr>\n",
       "      <th>1997-01-01</th>\n",
       "      <td>0.363080</td>\n",
       "    </tr>\n",
       "    <tr>\n",
       "      <th>1998-01-01</th>\n",
       "      <td>0.132360</td>\n",
       "    </tr>\n",
       "    <tr>\n",
       "      <th>1999-01-01</th>\n",
       "      <td>0.211833</td>\n",
       "    </tr>\n",
       "    <tr>\n",
       "      <th>2000-01-01</th>\n",
       "      <td>-0.230637</td>\n",
       "    </tr>\n",
       "    <tr>\n",
       "      <th>2001-01-01</th>\n",
       "      <td>1.189798</td>\n",
       "    </tr>\n",
       "    <tr>\n",
       "      <th>2002-01-01</th>\n",
       "      <td>1.975320</td>\n",
       "    </tr>\n",
       "    <tr>\n",
       "      <th>2003-01-01</th>\n",
       "      <td>2.363280</td>\n",
       "    </tr>\n",
       "    <tr>\n",
       "      <th>2004-01-01</th>\n",
       "      <td>1.889840</td>\n",
       "    </tr>\n",
       "    <tr>\n",
       "      <th>2005-01-01</th>\n",
       "      <td>0.434320</td>\n",
       "    </tr>\n",
       "    <tr>\n",
       "      <th>2006-01-01</th>\n",
       "      <td>-0.023480</td>\n",
       "    </tr>\n",
       "    <tr>\n",
       "      <th>2007-01-01</th>\n",
       "      <td>0.269841</td>\n",
       "    </tr>\n",
       "    <tr>\n",
       "      <th>2008-01-01</th>\n",
       "      <td>1.652948</td>\n",
       "    </tr>\n",
       "    <tr>\n",
       "      <th>2009-01-01</th>\n",
       "      <td>2.305640</td>\n",
       "    </tr>\n",
       "    <tr>\n",
       "      <th>2010-01-01</th>\n",
       "      <td>2.511713</td>\n",
       "    </tr>\n",
       "    <tr>\n",
       "      <th>2011-01-01</th>\n",
       "      <td>2.332280</td>\n",
       "    </tr>\n",
       "    <tr>\n",
       "      <th>2012-01-01</th>\n",
       "      <td>1.527280</td>\n",
       "    </tr>\n",
       "    <tr>\n",
       "      <th>2013-01-01</th>\n",
       "      <td>2.043080</td>\n",
       "    </tr>\n",
       "    <tr>\n",
       "      <th>2014-01-01</th>\n",
       "      <td>2.077480</td>\n",
       "    </tr>\n",
       "    <tr>\n",
       "      <th>2015-01-01</th>\n",
       "      <td>1.451514</td>\n",
       "    </tr>\n",
       "    <tr>\n",
       "      <th>2016-01-01</th>\n",
       "      <td>1.003240</td>\n",
       "    </tr>\n",
       "    <tr>\n",
       "      <th>2017-01-01</th>\n",
       "      <td>0.930280</td>\n",
       "    </tr>\n",
       "    <tr>\n",
       "      <th>2018-01-01</th>\n",
       "      <td>0.384177</td>\n",
       "    </tr>\n",
       "    <tr>\n",
       "      <th>2019-01-01</th>\n",
       "      <td>0.172600</td>\n",
       "    </tr>\n",
       "    <tr>\n",
       "      <th>2020-01-01</th>\n",
       "      <td>0.500558</td>\n",
       "    </tr>\n",
       "    <tr>\n",
       "      <th>2021-01-01</th>\n",
       "      <td>1.181394</td>\n",
       "    </tr>\n",
       "    <tr>\n",
       "      <th>2022-01-01</th>\n",
       "      <td>-0.035622</td>\n",
       "    </tr>\n",
       "  </tbody>\n",
       "</table>\n",
       "</div>"
      ],
      "text/plain": [
       "              T10Y2Y\n",
       "DATE                \n",
       "1977-01-01  0.968635\n",
       "1978-01-01  0.075524\n",
       "1979-01-01 -0.677137\n",
       "1980-01-01 -0.298320\n",
       "1981-01-01 -0.653133\n",
       "1982-01-01  0.204578\n",
       "1983-01-01  0.894160\n",
       "1984-01-01  0.787831\n",
       "1985-01-01  1.352097\n",
       "1986-01-01  0.812360\n",
       "1987-01-01  0.977040\n",
       "1988-01-01  0.747600\n",
       "1989-01-01 -0.078680\n",
       "1990-01-01  0.390880\n",
       "1991-01-01  1.374600\n",
       "1992-01-01  2.238964\n",
       "1993-01-01  1.820480\n",
       "1994-01-01  1.142209\n",
       "1995-01-01  0.422440\n",
       "1996-01-01  0.598571\n",
       "1997-01-01  0.363080\n",
       "1998-01-01  0.132360\n",
       "1999-01-01  0.211833\n",
       "2000-01-01 -0.230637\n",
       "2001-01-01  1.189798\n",
       "2002-01-01  1.975320\n",
       "2003-01-01  2.363280\n",
       "2004-01-01  1.889840\n",
       "2005-01-01  0.434320\n",
       "2006-01-01 -0.023480\n",
       "2007-01-01  0.269841\n",
       "2008-01-01  1.652948\n",
       "2009-01-01  2.305640\n",
       "2010-01-01  2.511713\n",
       "2011-01-01  2.332280\n",
       "2012-01-01  1.527280\n",
       "2013-01-01  2.043080\n",
       "2014-01-01  2.077480\n",
       "2015-01-01  1.451514\n",
       "2016-01-01  1.003240\n",
       "2017-01-01  0.930280\n",
       "2018-01-01  0.384177\n",
       "2019-01-01  0.172600\n",
       "2020-01-01  0.500558\n",
       "2021-01-01  1.181394\n",
       "2022-01-01 -0.035622"
      ]
     },
     "execution_count": 65,
     "metadata": {},
     "output_type": "execute_result"
    }
   ],
   "source": [
    "interest_annual_rate = pd.read_csv(\"Downloads/T10Y2Y.csv\", index_col=\"DATE\", parse_dates=True)\n",
    "interest_annual_rate"
   ]
  },
  {
   "cell_type": "markdown",
   "id": "4f86965c",
   "metadata": {},
   "source": [
    "## Plotting Interest Rate vs SP500 returns\n",
    "\n",
    "* From the graph, it can be seen that when interest rate drops, the stock prices will generally rise "
   ]
  },
  {
   "cell_type": "code",
   "execution_count": 66,
   "id": "c7fca1d7",
   "metadata": {},
   "outputs": [
    {
     "data": {
      "image/png": "[encoded data removed]",
      "text/plain": [
       "<Figure size 1080x576 with 2 Axes>"
      ]
     },
     "metadata": {
      "needs_background": "light"
     },
     "output_type": "display_data"
    }
   ],
   "source": [
    "fig, ax1 = plt.subplots(figsize=(15, 8))\n",
    "ax2 = ax1.twinx()\n",
    "\n",
    "ax1.plot(interest_annual_rate, marker = '*',\n",
    "         color=\"orange\", label=\"Interest Rate Annual Change\")\n",
    "\n",
    "colors = np.where(sp500_annual_performance['Close'].loc[\"1977\":] < 0, 'red', 'green')\n",
    "\n",
    "ax2.bar(sp500_annual_performance.loc[\"1977\":].index, sp500_annual_performance[\"Close\"].loc[\"1977\":],\n",
    "        color=colors, alpha=0.5, width= 200, label=\"S&P500 annual return (Positive)\")\n",
    "\n",
    "ax1.grid(color = 'gray', linestyle = '--', linewidth = 1)\n",
    "plt.tick_params(labelsize=10) \n",
    "plt.title(\"CPI vs. S&P 500 Annual Returns\", fontsize=20)\n",
    "\n",
    "handler1, label1 = ax1.get_legend_handles_labels()\n",
    "handler2, label2 = ax2.get_legend_handles_labels()\n",
    "ax1.legend(handler1 + handler2, label1 + label2, loc=2, borderaxespad=0.)\n",
    "\n",
    "ax1.set_xlabel(\"Date\")\n",
    "ax1.set_ylabel(\"Annual Interest Rate(%)\")\n",
    "ax2.set_ylabel(\"S&P500 annual return(%)\")\n",
    "\n",
    "ax1.set_ylim([-3, 3])\n",
    "plt.show()"
   ]
  },
  {
   "cell_type": "markdown",
   "id": "cb5bf57f",
   "metadata": {},
   "source": [
    "## Removing unwanted columns/features\n",
    "\n",
    "* Using the same sp500 data from earlier"
   ]
  },
  {
   "cell_type": "code",
   "execution_count": 68,
   "id": "821ae4a4",
   "metadata": {},
   "outputs": [],
   "source": [
    "del sp500[\"Dividends\"]\n",
    "del sp500[\"Stock Splits\"]"
   ]
  },
  {
   "cell_type": "markdown",
   "id": "431121e8",
   "metadata": {},
   "source": [
    "## Creating the target column to train and test"
   ]
  },
  {
   "cell_type": "code",
   "execution_count": 69,
   "id": "92a919f4",
   "metadata": {},
   "outputs": [],
   "source": [
    "sp500[\"Pre_close\"] = sp500[\"Close\"].shift(1)"
   ]
  },
  {
   "cell_type": "code",
   "execution_count": 70,
   "id": "9504c3e7",
   "metadata": {},
   "outputs": [],
   "source": [
    "sp500 = sp500.loc[\"2010\":]"
   ]
  },
  {
   "cell_type": "code",
   "execution_count": 71,
   "id": "515508fd",
   "metadata": {},
   "outputs": [],
   "source": [
    "sp500 = sp500.dropna()"
   ]
  },
  {
   "cell_type": "markdown",
   "id": "960de636",
   "metadata": {},
   "source": [
    "## Using only recent data as data from too many years ago might not be suitable\n",
    "\n",
    "* Use data over 1 trading year to test the model"
   ]
  },
  {
   "cell_type": "code",
   "execution_count": 72,
   "id": "0782eb2e",
   "metadata": {},
   "outputs": [],
   "source": [
    "X = sp500.drop([\"Close\"], axis=1).values\n",
    "y = sp500[\"Close\"]\n",
    "\n",
    "num = 250\n",
    "\n",
    "X_train = X[:-1*num]\n",
    "y_train = y[:-1*num]\n",
    "X_test = X[-1*num:]\n",
    "y_test = y[-1*num:]\n",
    "\n",
    "model = LinearRegression()\n",
    "model = model.fit(X_train, y_train)\n",
    "predictions = model.predict(X_test)\n"
   ]
  },
  {
   "cell_type": "code",
   "execution_count": 73,
   "id": "68de08b4",
   "metadata": {
    "scrolled": true
   },
   "outputs": [
    {
     "name": "stdout",
     "output_type": "stream",
     "text": [
      "(3062, 5) (250, 5) (3062,) (250,)\n"
     ]
    }
   ],
   "source": [
    "print(X_train.shape, X_test.shape, y_train.shape, y_test.shape)"
   ]
  },
  {
   "cell_type": "markdown",
   "id": "5dff2fbb",
   "metadata": {},
   "source": [
    "## Evaluting our model\n",
    "\n",
    "* Root mean square error (RMSE) is the standard deviation of the residuals. The lower the value of RMSE, the better the performance.\n",
    "* R Square is a good measure to determine how well the model fits the dependent variables. The maximum value is 1.0, the higher the R square, the better the model fit\n",
    "* Mean Square Error is an absolute measure of the fit of model, it’s result gives us how much deviation from actual number. The lower the MSE value, the higher the prediction accuracy."
   ]
  },
  {
   "cell_type": "code",
   "execution_count": 74,
   "id": "011fd561",
   "metadata": {},
   "outputs": [
    {
     "name": "stdout",
     "output_type": "stream",
     "text": [
      "Root Mean Squared Error: 18.8723\n",
      "(R^2) Score: 0.9931\n",
      "Mean Sqaured Error: 356.1631831891537\n"
     ]
    }
   ],
   "source": [
    "print(\"Root Mean Squared Error:\", round(np.sqrt(metrics.mean_squared_error(y_test, predictions)), 4))\n",
    "print(\"(R^2) Score:\", round(metrics.r2_score(y_test, predictions), 4))\n",
    "print(\"Mean Sqaured Error:\", metrics.mean_squared_error(y_test, predictions))\n"
   ]
  },
  {
   "cell_type": "markdown",
   "id": "f2c29797",
   "metadata": {},
   "source": [
    "## Creating new features for the data\n",
    "\n",
    "* Using stock indicators for our features\n",
    "\n",
    "* Some good indicators to look at includes, \n",
    "1. Simple Moving Average(SMA) \n",
    "2. Expotiential Moving Average (EMA) \n",
    "3. Moving Average Convergence Divergence (MACD) the value of an exponential moving average (EMA) subtracted from another EMA with a shorter lookback period.\n",
    "4. Relative Strength Index (RSI)"
   ]
  },
  {
   "cell_type": "code",
   "execution_count": 75,
   "id": "e48baf54",
   "metadata": {},
   "outputs": [],
   "source": [
    "# SMA Indicators    \n",
    "sp500[\"5SMA\"] = sp500[\"Pre_close\"].rolling(5).mean()\n",
    "sp500[\"10SMA\"] = sp500[\"Pre_close\"].rolling(10).mean()\n",
    "sp500[\"20SMA\"] = sp500[\"Pre_close\"].rolling(20).mean()\n",
    "sp500[\"50SMA\"] = sp500[\"Pre_close\"].rolling(50).mean()\n",
    "sp500[\"100SMA\"] = sp500[\"Pre_close\"].rolling(100).mean()\n",
    "sp500[\"200SMA\"] = sp500[\"Pre_close\"].rolling(200).mean()"
   ]
  },
  {
   "cell_type": "code",
   "execution_count": 76,
   "id": "cf271f54",
   "metadata": {},
   "outputs": [
    {
     "data": {
      "image/png": "[encoded data removed]",
      "text/plain": [
       "<Figure size 1080x360 with 1 Axes>"
      ]
     },
     "metadata": {
      "needs_background": "light"
     },
     "output_type": "display_data"
    }
   ],
   "source": [
    "# plot SMA against stock data\n",
    "\n",
    "plt.figure(figsize=(15,5))\n",
    "plt.plot(sp500.index , sp500[\"Pre_close\"], color=\"blue\")\n",
    "plt.plot(sp500.index, sp500[\"200SMA\"], color=\"red\")\n",
    "plt.plot(sp500.index, sp500[\"50SMA\"], color=\"green\")\n",
    "plt.xlim(sp500.index[1250], sp500.index[1750])\n",
    "\n",
    "plt.show()\n",
    "\n",
    "# We can see the general trend of the sp500 price across the years\n",
    "# With 50 SMA, the trend will follow closer to the price, when 50SMA is above 200 SMA, indicates the start of a long-term uptrend"
   ]
  },
  {
   "cell_type": "code",
   "execution_count": 77,
   "id": "0c9dfca2",
   "metadata": {},
   "outputs": [],
   "source": [
    "#EMA indicators\n",
    "\n",
    "# ema for period = 12\n",
    "def cal_macd (data, len1, len2, len3):\n",
    "    short = data[\"Pre_close\"].ewm(span=len1,adjust=False, min_periods=len1).mean()\n",
    "# ema for period = 26\n",
    "    long = data[\"Pre_close\"].ewm(span=len2, adjust=False, min_periods=len2).mean()\n",
    "# calculate Macd\n",
    "    macd = short - long\n",
    "    macd_s = macd.ewm(span=len3, adjust=False, min_periods=len3).mean()\n",
    "    \n",
    "    return macd, macd_s"
   ]
  },
  {
   "cell_type": "code",
   "execution_count": 78,
   "id": "532715c6",
   "metadata": {},
   "outputs": [],
   "source": [
    "Macd, signal = cal_macd(sp500, 12, 26, 9)\n",
    "sp500[\"Macd\"] = Macd\n",
    "sp500[\"Signal\"] = signal"
   ]
  },
  {
   "cell_type": "code",
   "execution_count": 79,
   "id": "3c2894e7",
   "metadata": {},
   "outputs": [
    {
     "data": {
      "image/png": "[encoded data removed]",
      "text/plain": [
       "<Figure size 1080x360 with 1 Axes>"
      ]
     },
     "metadata": {
      "needs_background": "light"
     },
     "output_type": "display_data"
    }
   ],
   "source": [
    "#plot MACD and the signal\n",
    "\n",
    "plt.figure(figsize=(15,5))\n",
    "\n",
    "colors = np.where(sp500['Macd'] < 0, 'red', 'Green')\n",
    "plt.bar(sp500.index, sp500[\"Macd\"],color=colors)\n",
    "plt.plot(sp500.index, sp500[\"Signal\"])\n",
    "plt.xlim(sp500.index[1000], sp500.index[1500])\n",
    "plt.ylim(-100, 100)\n",
    "plt.show()"
   ]
  },
  {
   "cell_type": "code",
   "execution_count": 80,
   "id": "f0016d38",
   "metadata": {},
   "outputs": [],
   "source": [
    "## RSI indicator\n",
    "## Will tell us whether a stock is overbought or oversold\n",
    "\n",
    "def rsi(data, periods, ema = True):\n",
    "    \n",
    "    delta = data.diff()\n",
    "    \n",
    "    # Make two series: one for lower closes and one for higher closes\n",
    "    up = delta.clip(lower=0)\n",
    "    down = -1 * delta.clip(upper=0)\n",
    "    \n",
    "    ma_up = up.ewm(com = periods - 1, adjust=False).mean()\n",
    "    ma_down = down.ewm(com = periods - 1, adjust=False).mean()\n",
    "\n",
    "    rsi = ma_up / ma_down\n",
    "    rsi = 100 - (100/(1 + rsi))\n",
    "    return rsi"
   ]
  },
  {
   "cell_type": "code",
   "execution_count": 81,
   "id": "68d92cf5",
   "metadata": {},
   "outputs": [],
   "source": [
    "sp500[\"RSI\"] = rsi(sp500[\"Pre_close\"], 14)"
   ]
  },
  {
   "cell_type": "code",
   "execution_count": 82,
   "id": "64c09fb2",
   "metadata": {},
   "outputs": [],
   "source": [
    "sp500 = sp500.fillna(0)"
   ]
  },
  {
   "cell_type": "code",
   "execution_count": 83,
   "id": "85880b2b",
   "metadata": {},
   "outputs": [],
   "source": [
    "model = LinearRegression()\n",
    "\n",
    "X = sp500.drop([\"Close\"], axis=1).values\n",
    "y = sp500[\"Close\"]\n",
    "\n",
    "num = 250\n",
    "\n",
    "X_train = X[:-1*num]\n",
    "y_train = y[:-1*num]\n",
    "X_test = X[-1*num:]\n",
    "y_test = y[-1*num:]\n",
    "\n",
    "model = model.fit(X_train, y_train)\n",
    "preds = model.predict(X_test)"
   ]
  },
  {
   "cell_type": "code",
   "execution_count": 84,
   "id": "da976e43",
   "metadata": {
    "scrolled": true
   },
   "outputs": [
    {
     "name": "stdout",
     "output_type": "stream",
     "text": [
      "(3062, 14) (250, 14) (3062,) (250,)\n"
     ]
    }
   ],
   "source": [
    "print(X_train.shape, X_test.shape, y_train.shape, y_test.shape)"
   ]
  },
  {
   "cell_type": "code",
   "execution_count": 85,
   "id": "83a455ab",
   "metadata": {},
   "outputs": [
    {
     "name": "stdout",
     "output_type": "stream",
     "text": [
      "Mean Sqaured Error: 356.24781610302006\n",
      "Root Mean Squared Error: 18.8745\n",
      "(R^2) Score: 0.9931\n"
     ]
    }
   ],
   "source": [
    "print(\"Mean Sqaured Error:\", metrics.mean_squared_error(y_test, preds))\n",
    "print(\"Root Mean Squared Error:\", round(np.sqrt(metrics.mean_squared_error(y_test, preds)), 4))\n",
    "print(\"(R^2) Score:\", round(metrics.r2_score(y_test, preds), 4))"
   ]
  },
  {
   "cell_type": "markdown",
   "id": "23d46ada",
   "metadata": {},
   "source": [
    "## Using the model to make trades\n",
    "\n",
    "* Model will make a trade if it thinks that the closing price for that day is higher than opening price on the same day\n",
    "\n",
    "* We will use it to compare against buying and holding sp500 for a year to see which one yields higher profit\n",
    "\n"
   ]
  },
  {
   "cell_type": "code",
   "execution_count": 80,
   "id": "8be4cd88",
   "metadata": {},
   "outputs": [],
   "source": [
    "def test (opens, closes, preds, start_account=1000, thresh=0):\n",
    "    account = start_account\n",
    "    changes = []\n",
    "    \n",
    "    for i in range(len(preds)):\n",
    "        if (preds[i]-opens[i]/opens[i]) >= thresh:\n",
    "            account += account*(closes[i]-opens[i])/opens[i]\n",
    "\n",
    "        changes.append(account)\n",
    "    \n",
    "    plt.figure(figsize=(15,5))\n",
    "    plt.plot(closes.index, changes)\n",
    "    plt.title(\"Account balance over 365 trading days\")\n",
    "    plt.xlabel(\"Date\")\n",
    "    plt.ylabel(\"Account amount\")\n",
    "    plt.show()\n",
    "    \n",
    "    invest_total = start_account + start_account * (closes[-1]-opens[0])/opens[0]\n",
    "    print(\"Investing amount:\", invest_total, str(round((invest_total-start_account)/start_account*100,1))+ \"%\")\n",
    "    print(\"Algo Trading Total:\", account, str(round((account-start_account)/start_account*100,1))+ \"%\")\n"
   ]
  },
  {
   "cell_type": "code",
   "execution_count": 81,
   "id": "ec60f063",
   "metadata": {},
   "outputs": [
    {
     "data": {
      "image/png": "[encoded data removed]",
      "text/plain": [
       "<Figure size 1080x360 with 1 Axes>"
      ]
     },
     "metadata": {
      "needs_background": "light"
     },
     "output_type": "display_data"
    },
    {
     "name": "stdout",
     "output_type": "stream",
     "text": [
      "Investing amount: 897.7758530923909 -10.2%\n",
      "Algo Trading Total: 986.9674647595431 -1.3%\n"
     ]
    }
   ],
   "source": [
    "test(X_test.T[0], y_test, preds, 1000, 0)"
   ]
  },
  {
   "cell_type": "markdown",
   "id": "0545cb6b",
   "metadata": {},
   "source": [
    "# Prediction using hourly data"
   ]
  },
  {
   "cell_type": "code",
   "execution_count": 83,
   "id": "c5a250e7",
   "metadata": {},
   "outputs": [],
   "source": [
    "sp500_hourly = yf.Ticker(\"^GSPC\")\n",
    "sp500_hourly = sp500_hourly.history(start=\"2022-1-1\", interval=\"1h\")"
   ]
  },
  {
   "cell_type": "code",
   "execution_count": 84,
   "id": "e41a34bd",
   "metadata": {},
   "outputs": [
    {
     "name": "stdout",
     "output_type": "stream",
     "text": [
      "<class 'pandas.core.frame.DataFrame'>\n",
      "DatetimeIndex: 2033 entries, 2022-01-03 09:30:00-05:00 to 2023-03-01 15:30:00-05:00\n",
      "Data columns (total 7 columns):\n",
      " #   Column        Non-Null Count  Dtype  \n",
      "---  ------        --------------  -----  \n",
      " 0   Open          2033 non-null   float64\n",
      " 1   High          2033 non-null   float64\n",
      " 2   Low           2033 non-null   float64\n",
      " 3   Close         2033 non-null   float64\n",
      " 4   Volume        2033 non-null   int64  \n",
      " 5   Dividends     2033 non-null   float64\n",
      " 6   Stock Splits  2033 non-null   float64\n",
      "dtypes: float64(6), int64(1)\n",
      "memory usage: 127.1 KB\n"
     ]
    }
   ],
   "source": [
    "sp500_hourly.info()"
   ]
  },
  {
   "cell_type": "code",
   "execution_count": 85,
   "id": "7bb451f8",
   "metadata": {},
   "outputs": [
    {
     "data": {
      "text/plain": [
       "False"
      ]
     },
     "execution_count": 85,
     "metadata": {},
     "output_type": "execute_result"
    }
   ],
   "source": [
    "sp500_hourly.duplicated().values.any()\n",
    "sp500_hourly.isna().values.any()"
   ]
  },
  {
   "cell_type": "code",
   "execution_count": 86,
   "id": "8ec2f790",
   "metadata": {},
   "outputs": [],
   "source": [
    "del sp500_hourly[\"Dividends\"]\n",
    "del sp500_hourly[\"Stock Splits\"]"
   ]
  },
  {
   "cell_type": "code",
   "execution_count": 87,
   "id": "8fe7053e",
   "metadata": {},
   "outputs": [],
   "source": [
    "sp500_hourly[\"Pre_close\"] = sp500_hourly[\"Close\"].shift(1)"
   ]
  },
  {
   "cell_type": "code",
   "execution_count": 88,
   "id": "8acd800d",
   "metadata": {},
   "outputs": [],
   "source": [
    "sp500_hourly.dropna(inplace=True)"
   ]
  },
  {
   "cell_type": "code",
   "execution_count": 89,
   "id": "c007877f",
   "metadata": {},
   "outputs": [],
   "source": [
    "model = LinearRegression()\n",
    "\n",
    "X = sp500_hourly.drop([\"Close\"], axis=1).values\n",
    "y = sp500_hourly[\"Close\"]\n",
    "\n",
    "num = 250\n",
    "\n",
    "X_train = X[:-1*num]\n",
    "y_train = y[:-1*num]\n",
    "X_test = X[-1*num:]\n",
    "y_test = y[-1*num:]\n",
    "\n",
    "model = model.fit(X_train, y_train)\n",
    "predicts = model.predict(X_test)"
   ]
  },
  {
   "cell_type": "code",
   "execution_count": 91,
   "id": "554ba8ca",
   "metadata": {},
   "outputs": [
    {
     "name": "stdout",
     "output_type": "stream",
     "text": [
      "Mean Sqaured Error: 37.465165985723566\n",
      "Root Mean Squared Error: 6.1209\n",
      "(R^2) Score: 0.9934\n"
     ]
    }
   ],
   "source": [
    "print(\"Mean Sqaured Error:\", metrics.mean_squared_error(y_test, predicts))\n",
    "print(\"Root Mean Squared Error:\", round(np.sqrt(metrics.mean_squared_error(y_test, predicts)), 4))\n",
    "print(\"(R^2) Score:\", round(metrics.r2_score(y_test, predicts), 4))"
   ]
  }
 ],
 "metadata": {
  "kernelspec": {
   "display_name": "Python 3 (ipykernel)",
   "language": "python",
   "name": "python3"
  },
  "language_info": {
   "codemirror_mode": {
    "name": "ipython",
    "version": 3
   },
   "file_extension": ".py",
   "mimetype": "text/x-python",
   "name": "python",
   "nbconvert_exporter": "python",
   "pygments_lexer": "ipython3",
   "version": "3.9.12"
  }
 },
 "nbformat": 4,
 "nbformat_minor": 5
}
